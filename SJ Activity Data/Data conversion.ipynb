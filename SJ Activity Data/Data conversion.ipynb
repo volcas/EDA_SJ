{
 "cells": [
  {
   "cell_type": "code",
   "execution_count": 1,
   "metadata": {},
   "outputs": [],
   "source": [
    "import numpy as np\n",
    "import pandas as pd\n",
    "import sqlite3"
   ]
  },
  {
   "cell_type": "markdown",
   "metadata": {},
   "source": [
    "### Data summary:\n",
    "\n",
    "+25,000 matches\n",
    "\n",
    "+10,000 players\n",
    "\n",
    "11 European Countries with their lead championship\n",
    "\n",
    "Seasons 2008 to 2016\n",
    "\n",
    "Players and Teams' attributes* sourced from EA Sports' FIFA video game series,\n",
    "\n",
    "Team line up with squad formation (X, Y coordinates)\n",
    "\n",
    "Betting odds from up to 10 providers\n",
    "\n",
    "Detailed match events (goal types, possession, corner, cross, fouls, cards etc...) for +10,000 matches"
   ]
  },
  {
   "cell_type": "code",
   "execution_count": 6,
   "metadata": {},
   "outputs": [],
   "source": [
    "# Loading data from sqlite\n",
    "\n",
    "with sqlite3.connect('database.sqlite') as con:\n",
    "    countries = pd.read_sql_query(\"SELECT * from Country\", con)\n",
    "    matches = pd.read_sql_query(\"SELECT * from Match\", con)\n",
    "    leagues = pd.read_sql_query(\"SELECT * from League\", con)\n",
    "    teams = pd.read_sql_query(\"SELECT * from Team\", con)\n",
    "    player = pd.read_sql_query(\"SELECT * from Player\",con)\n",
    "    player_attributes = pd.read_sql_query(\"SELECT * from Player_Attributes\",con)\n",
    "    sequence = pd.read_sql_query(\"SELECT * from sqlite_sequence\",con)\n",
    "    team_attributes = pd.read_sql_query(\"SELECT * from Team_Attributes\",con)\n",
    "lat_long = pd.read_excel(\"latlong.xlsx\")"
   ]
  },
  {
   "cell_type": "code",
   "execution_count": 5,
   "metadata": {},
   "outputs": [],
   "source": [
    "# storing them in csv files\n",
    "\n",
    "countries.to_csv(\"countries.csv\",index=False)\n",
    "matches.to_csv(\"matches.csv\",index=False)\n",
    "leagues.to_csv(\"leagues.csv\",index=False)\n",
    "teams.to_csv(\"teams.csv\",index=False)\n",
    "player.to_csv(\"player.csv\",index=False)\n",
    "player_attributes.to_csv(\"player_attributes.csv\",index=False)\n",
    "sequence.to_csv(\"sequence.csv\",index=False)\n",
    "team_attributes.to_csv(\"team_attributes.csv\",index=False)"
   ]
  }
 ],
 "metadata": {
  "kernelspec": {
   "display_name": "Python 3",
   "language": "python",
   "name": "python3"
  },
  "language_info": {
   "codemirror_mode": {
    "name": "ipython",
    "version": 3
   },
   "file_extension": ".py",
   "mimetype": "text/x-python",
   "name": "python",
   "nbconvert_exporter": "python",
   "pygments_lexer": "ipython3",
   "version": "3.7.6"
  }
 },
 "nbformat": 4,
 "nbformat_minor": 4
}
